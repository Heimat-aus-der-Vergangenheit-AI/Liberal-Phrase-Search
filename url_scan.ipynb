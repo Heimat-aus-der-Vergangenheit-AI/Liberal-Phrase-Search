{
 "cells": [
  {
   "cell_type": "code",
   "execution_count": 1,
   "id": "5c169014-0cc4-4a84-baf1-3e411dc8e642",
   "metadata": {},
   "outputs": [
    {
     "name": "stdout",
     "output_type": "stream",
     "text": [
      "Alert: Banned speech detected!\n"
     ]
    }
   ],
   "source": [
    "import csv\n",
    "import requests\n",
    "from bs4 import BeautifulSoup\n",
    "\n",
    "# Function to load banned phrases from a CSV file\n",
    "def load_banned_phrases(filename):\n",
    "    with open(filename, newline='', encoding='utf-8') as csvfile:\n",
    "        reader = csv.reader(csvfile)\n",
    "        banned_phrases = [row[0].strip() for row in reader if row]  # Read the first column\n",
    "    return banned_phrases\n",
    "    \n",
    "# Function to get text from a webpage\n",
    "def get_text_from_webpage(url):\n",
    "    try:\n",
    "        response = requests.get(url)\n",
    "        response.raise_for_status()  # will raise an exception for HTTP error\n",
    "        soup = BeautifulSoup(response.text, 'html.parser')\n",
    "        text = ' '.join(soup.stripped_strings)  # Extract text and remove extra whitespace\n",
    "        return text\n",
    "    except requests.RequestException as e:\n",
    "        print(f\"Error fetching webpage: {e}\")\n",
    "        return \"\"\n",
    "\n",
    "# Function to check text for banned phrases\n",
    "def check_for_banned_speech(text, banned_phrases):\n",
    "    for phrase in banned_phrases:\n",
    "        if phrase.lower() in text.lower():  # Case insensitive check\n",
    "            return True\n",
    "    return False\n",
    "\n",
    "# Function to simulate an alert for banned speech\n",
    "def alert_banned_speech():\n",
    "    print(\"Alert: Banned speech detected!\")\n",
    "\n",
    "# Main function to tie everything together\n",
    "def main():\n",
    "    banned_phrases = load_banned_phrases(\"banned_speech.csv\")\n",
    "\n",
    "    # Example: Checking a webpage\n",
    "    webpage_url = \"https://dfasfdsaf.com/\" ################### PUT THE WEBPAGE HERE \n",
    "    webpage_text = get_text_from_webpage(webpage_url)\n",
    "    if check_for_banned_speech(webpage_text, banned_phrases):\n",
    "        alert_banned_speech()\n",
    "    else:\n",
    "        print(\"No banned speech detected in the webpage.\")\n",
    "\n",
    "if __name__ == \"__main__\":\n",
    "    main()"
   ]
  },
  {
   "cell_type": "code",
   "execution_count": null,
   "id": "f6ebf9bb-cf97-47ba-a4ce-aeaa03dff0a1",
   "metadata": {},
   "outputs": [],
   "source": []
  }
 ],
 "metadata": {
  "kernelspec": {
   "display_name": "Python 3 (ipykernel)",
   "language": "python",
   "name": "python3"
  },
  "language_info": {
   "codemirror_mode": {
    "name": "ipython",
    "version": 3
   },
   "file_extension": ".py",
   "mimetype": "text/x-python",
   "name": "python",
   "nbconvert_exporter": "python",
   "pygments_lexer": "ipython3",
   "version": "3.10.12"
  }
 },
 "nbformat": 4,
 "nbformat_minor": 5
}
