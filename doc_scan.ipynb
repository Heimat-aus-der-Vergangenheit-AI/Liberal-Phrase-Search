{
 "cells": [
  {
   "cell_type": "code",
   "execution_count": 8,
   "id": "75d17445-36ef-4824-82a4-3b429d5d5072",
   "metadata": {},
   "outputs": [
    {
     "name": "stdout",
     "output_type": "stream",
     "text": [
      "Alert: Banned speech detected!\n"
     ]
    }
   ],
   "source": [
    "import csv\n",
    "from docx import Document\n",
    "\n",
    "# Function to load banned phrases from a CSV file\n",
    "def load_banned_phrases(filename):\n",
    "    with open(filename, newline='', encoding='utf-8') as csvfile:\n",
    "        reader = csv.reader(csvfile)\n",
    "        banned_phrases = [row[0].strip() for row in reader if row]  # Read the first column\n",
    "    return banned_phrases\n",
    "\n",
    "# Function to read text from a Word document\n",
    "def read_text_from_docx(filename):\n",
    "    doc = Document(filename)\n",
    "    full_text = []\n",
    "    for para in doc.paragraphs:\n",
    "        full_text.append(para.text)\n",
    "    return '\\n'.join(full_text)\n",
    "\n",
    "# Function to check text for banned phrases\n",
    "def check_for_banned_speech(text, banned_phrases):\n",
    "    for phrase in banned_phrases:\n",
    "        if phrase.lower() in text.lower():  # Case insensitive check\n",
    "            return True\n",
    "    return False\n",
    "\n",
    "# Function to simulate an alert for banned speech\n",
    "def alert_banned_speech():\n",
    "    print(\"Alert: Banned speech detected!\")\n",
    "\n",
    "# Main function to tie everything together\n",
    "def main():\n",
    "    banned_phrases = load_banned_phrases(\"banned_speech.csv\")\n",
    "    \n",
    "    # Example: Checking a Word document\n",
    "    word_document_path = \"test_scan.docx\"  ################### PUT THE DOC HERE \n",
    "    document_text = read_text_from_docx(word_document_path)\n",
    "    if check_for_banned_speech(document_text, banned_phrases):\n",
    "        alert_banned_speech()\n",
    "    else:\n",
    "        print(\"No banned speech detected in the document.\")\n",
    "\n",
    "if __name__ == \"__main__\":\n",
    "    main()\n"
   ]
  },
  {
   "cell_type": "code",
   "execution_count": null,
   "id": "cbcce456-3a0d-4c18-8cbd-58c90255d9ca",
   "metadata": {},
   "outputs": [],
   "source": []
  }
 ],
 "metadata": {
  "kernelspec": {
   "display_name": "Python 3 (ipykernel)",
   "language": "python",
   "name": "python3"
  },
  "language_info": {
   "codemirror_mode": {
    "name": "ipython",
    "version": 3
   },
   "file_extension": ".py",
   "mimetype": "text/x-python",
   "name": "python",
   "nbconvert_exporter": "python",
   "pygments_lexer": "ipython3",
   "version": "3.10.12"
  }
 },
 "nbformat": 4,
 "nbformat_minor": 5
}
